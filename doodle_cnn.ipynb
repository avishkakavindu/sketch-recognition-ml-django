{
 "cells": [
  {
   "cell_type": "code",
   "execution_count": null,
   "metadata": {
    "id": "M3BfJCVnKzzD"
   },
   "outputs": [],
   "source": [
    "import urllib.request\n",
    "from tqdm import tqdm\n",
    "import os \n",
    "import glob\n",
    "import numpy as np\n",
    "import pandas as pd"
   ]
  },
  {
   "cell_type": "code",
   "execution_count": null,
   "metadata": {
    "id": "_-tvEwEpLeg2"
   },
   "outputs": [],
   "source": [
    "class_names = ['sun', 'face', 'ant', 'apple', 'bird']"
   ]
  },
  {
   "cell_type": "code",
   "execution_count": null,
   "metadata": {
    "colab": {
     "base_uri": "https://localhost:8080/"
    },
    "id": "oKGLoi93K35C",
    "outputId": "cf1a78b1-7fc5-47be-ea09-5449df08e73c"
   },
   "outputs": [
    {
     "name": "stderr",
     "output_type": "stream",
     "text": [
      "100%|██████████| 5/5 [00:05<00:00,  1.04s/it]\n"
     ]
    }
   ],
   "source": [
    "# download dataset\n",
    "\n",
    "for label in tqdm(class_names):\n",
    "  endpoint = 'https://storage.googleapis.com/quickdraw_dataset/full/numpy_bitmap/{}.npy'\n",
    "  dataset_path = 'dataset/{}.npy' \n",
    "  urllib.request.urlretrieve(endpoint.format(label), dataset_path.format(label))"
   ]
  },
  {
   "cell_type": "code",
   "execution_count": null,
   "metadata": {
    "colab": {
     "base_uri": "https://localhost:8080/"
    },
    "id": "EtiSEGVJM4OS",
    "outputId": "a95a0d00-53c2-40dc-b50c-1c922991fd93"
   },
   "outputs": [
    {
     "name": "stderr",
     "output_type": "stream",
     "text": [
      "5it [00:00,  5.27it/s]"
     ]
    },
    {
     "name": "stdout",
     "output_type": "stream",
     "text": [
      "{0: 'sun', 1: 'apple', 2: 'face', 3: 'bird', 4: 'ant'}\n"
     ]
    },
    {
     "name": "stderr",
     "output_type": "stream",
     "text": [
      "\n"
     ]
    }
   ],
   "source": [
    "files = glob.glob(os.path.join('dataset/', '*.npy'))\n",
    "\n",
    "x = np.empty([0, 784])\n",
    "y = np.empty([0])\n",
    "lbls = {}\n",
    "\n",
    "for id, file in tqdm(enumerate(files)):\n",
    "  arrs = np.load(file)[0: 20000]  # get only 100000 records per each\n",
    "  labels = np.full(arrs.shape[0], id)  # make array with labels\n",
    "  \n",
    "  x = np.concatenate((x, arrs), axis=0)\n",
    "  y = np.concatenate((y, labels), axis=0)\n",
    "\n",
    "  lbls[id] = file.split('/')[-1].split('.')[0]\n",
    "x.shape, y.shape\n",
    "print(lbls)"
   ]
  },
  {
   "cell_type": "code",
   "execution_count": null,
   "metadata": {
    "id": "-SPMK6ZgYU8T"
   },
   "outputs": [],
   "source": [
    "df = pd.DataFrame({'image': list(x), 'label': y})\n",
    "df['label'] = df['label'].astype(int)"
   ]
  },
  {
   "cell_type": "code",
   "execution_count": null,
   "metadata": {
    "colab": {
     "base_uri": "https://localhost:8080/",
     "height": 205
    },
    "id": "x-stOdp2er7Q",
    "outputId": "25d437ce-52c5-41e8-ac7c-347bc9c04fd3"
   },
   "outputs": [
    {
     "data": {
      "text/html": [
       "<div>\n",
       "<style scoped>\n",
       "    .dataframe tbody tr th:only-of-type {\n",
       "        vertical-align: middle;\n",
       "    }\n",
       "\n",
       "    .dataframe tbody tr th {\n",
       "        vertical-align: top;\n",
       "    }\n",
       "\n",
       "    .dataframe thead th {\n",
       "        text-align: right;\n",
       "    }\n",
       "</style>\n",
       "<table border=\"1\" class=\"dataframe\">\n",
       "  <thead>\n",
       "    <tr style=\"text-align: right;\">\n",
       "      <th></th>\n",
       "      <th>image</th>\n",
       "      <th>label</th>\n",
       "    </tr>\n",
       "  </thead>\n",
       "  <tbody>\n",
       "    <tr>\n",
       "      <th>0</th>\n",
       "      <td>[0.0, 0.0, 0.0, 0.0, 0.0, 0.0, 0.0, 0.0, 0.0, ...</td>\n",
       "      <td>0</td>\n",
       "    </tr>\n",
       "    <tr>\n",
       "      <th>1</th>\n",
       "      <td>[0.0, 0.0, 0.0, 0.0, 0.0, 0.0, 0.0, 0.0, 0.0, ...</td>\n",
       "      <td>3</td>\n",
       "    </tr>\n",
       "    <tr>\n",
       "      <th>2</th>\n",
       "      <td>[0.0, 0.0, 0.0, 0.0, 0.0, 0.0, 0.0, 0.0, 0.0, ...</td>\n",
       "      <td>1</td>\n",
       "    </tr>\n",
       "    <tr>\n",
       "      <th>3</th>\n",
       "      <td>[0.0, 0.0, 0.0, 0.0, 0.0, 0.0, 0.0, 0.0, 0.0, ...</td>\n",
       "      <td>2</td>\n",
       "    </tr>\n",
       "    <tr>\n",
       "      <th>4</th>\n",
       "      <td>[0.0, 0.0, 0.0, 0.0, 0.0, 0.0, 0.0, 0.0, 0.0, ...</td>\n",
       "      <td>2</td>\n",
       "    </tr>\n",
       "  </tbody>\n",
       "</table>\n",
       "</div>"
      ],
      "text/plain": [
       "                                               image  label\n",
       "0  [0.0, 0.0, 0.0, 0.0, 0.0, 0.0, 0.0, 0.0, 0.0, ...      0\n",
       "1  [0.0, 0.0, 0.0, 0.0, 0.0, 0.0, 0.0, 0.0, 0.0, ...      3\n",
       "2  [0.0, 0.0, 0.0, 0.0, 0.0, 0.0, 0.0, 0.0, 0.0, ...      1\n",
       "3  [0.0, 0.0, 0.0, 0.0, 0.0, 0.0, 0.0, 0.0, 0.0, ...      2\n",
       "4  [0.0, 0.0, 0.0, 0.0, 0.0, 0.0, 0.0, 0.0, 0.0, ...      2"
      ]
     },
     "execution_count": 9,
     "metadata": {},
     "output_type": "execute_result"
    }
   ],
   "source": [
    "# shuffle dataframe\n",
    "from sklearn import utils\n",
    "\n",
    "\n",
    "df = utils.shuffle(df).reset_index(drop=True)\n",
    "df.head()"
   ]
  },
  {
   "cell_type": "code",
   "execution_count": null,
   "metadata": {
    "id": "4B3zJaQJfLQI"
   },
   "outputs": [],
   "source": [
    "from sklearn.model_selection import train_test_split\n",
    "\n",
    "# independant dependant var\n",
    "x = df['image'].values\n",
    "y = df['label'].values\n",
    "\n",
    "x_train, x_test, y_train, y_test = train_test_split(x, y, test_size=0.3)"
   ]
  },
  {
   "cell_type": "code",
   "execution_count": null,
   "metadata": {
    "colab": {
     "base_uri": "https://localhost:8080/",
     "height": 1000
    },
    "id": "Ti9ElH2j0XBi",
    "outputId": "4d5e8ea8-9550-4b59-9904-754655126606"
   },
   "outputs": [
    {
     "data": {
      "image/png": "[encoded data removed]",
      "text/plain": [
       "<Figure size 432x288 with 1 Axes>"
      ]
     },
     "metadata": {
      "needs_background": "light"
     },
     "output_type": "display_data"
    },
    {
     "data": {
      "image/png": "[encoded data removed]",
      "text/plain": [
       "<Figure size 432x288 with 1 Axes>"
      ]
     },
     "metadata": {
      "needs_background": "light"
     },
     "output_type": "display_data"
    },
    {
     "data": {
      "image/png": "[encoded data removed]",
      "text/plain": [
       "<Figure size 432x288 with 1 Axes>"
      ]
     },
     "metadata": {
      "needs_background": "light"
     },
     "output_type": "display_data"
    },
    {
     "data": {
      "image/png": "[encoded data removed]",
      "text/plain": [
       "<Figure size 432x288 with 1 Axes>"
      ]
     },
     "metadata": {
      "needs_background": "light"
     },
     "output_type": "display_data"
    },
    {
     "data": {
      "image/png": "[encoded data removed]",
      "text/plain": [
       "<Figure size 432x288 with 1 Axes>"
      ]
     },
     "metadata": {
      "needs_background": "light"
     },
     "output_type": "display_data"
    }
   ],
   "source": [
    "# show random images from training set\n",
    "import matplotlib.pyplot as plt\n",
    "from random import randint\n",
    "for i in range(5):\n",
    "  id = randint(0, x_train.shape[0])\n",
    "  plt.imshow(x_train[id].reshape(28, 28))\n",
    "  idx = (-y_train[id]).argsort()[0]\n",
    "  plt.title(lbls[idx])\n",
    "  plt.show()\n"
   ]
  },
  {
   "cell_type": "markdown",
   "metadata": {
    "id": "mQTggFwK3WVe"
   },
   "source": [
    "Preprocessing"
   ]
  },
  {
   "cell_type": "code",
   "execution_count": null,
   "metadata": {
    "colab": {
     "base_uri": "https://localhost:8080/"
    },
    "id": "nIwZ03d33MMo",
    "outputId": "30797746-4cf8-48ce-8b9a-8897ee693c30"
   },
   "outputs": [
    {
     "data": {
      "text/plain": [
       "((70000, 28, 28, 1), (30000, 28, 28, 1))"
      ]
     },
     "execution_count": 12,
     "metadata": {},
     "output_type": "execute_result"
    }
   ],
   "source": [
    "x_train = np.array(x_train.tolist()).reshape(x_train.shape[0], 28, 28, 1).astype('float32')\n",
    "x_test = np.array(x_test.tolist()).reshape(x_test.shape[0], 28, 28, 1).astype('float32')\n",
    "\n",
    "x_train.shape, x_test.shape\n"
   ]
  },
  {
   "cell_type": "code",
   "execution_count": null,
   "metadata": {
    "id": "q2_9mH-y4to3"
   },
   "outputs": [],
   "source": [
    "# normalizing\n",
    "x_train /= 255\n",
    "x_test /= 255"
   ]
  },
  {
   "cell_type": "code",
   "execution_count": null,
   "metadata": {
    "id": "hEVxOtDf43bs"
   },
   "outputs": [],
   "source": [
    "import tensorflow as tf\n",
    "\n",
    "y_train = tf.keras.utils.to_categorical(y_train, len(class_names))\n",
    "y_test = tf.keras.utils.to_categorical(y_test, len(class_names))"
   ]
  },
  {
   "cell_type": "code",
   "execution_count": null,
   "metadata": {
    "colab": {
     "base_uri": "https://localhost:8080/"
    },
    "id": "e6JRgFuZ64Ou",
    "outputId": "81fc9bdb-691d-4d66-c4b2-ed5e56481d08"
   },
   "outputs": [
    {
     "name": "stdout",
     "output_type": "stream",
     "text": [
      "Model: \"sequential\"\n",
      "_________________________________________________________________\n",
      "Layer (type)                 Output Shape              Param #   \n",
      "=================================================================\n",
      "conv2d (Conv2D)              (None, 28, 28, 32)        320       \n",
      "_________________________________________________________________\n",
      "max_pooling2d (MaxPooling2D) (None, 14, 14, 32)        0         \n",
      "_________________________________________________________________\n",
      "conv2d_1 (Conv2D)            (None, 14, 14, 64)        18496     \n",
      "_________________________________________________________________\n",
      "max_pooling2d_1 (MaxPooling2 (None, 7, 7, 64)          0         \n",
      "_________________________________________________________________\n",
      "dropout (Dropout)            (None, 7, 7, 64)          0         \n",
      "_________________________________________________________________\n",
      "flatten (Flatten)            (None, 3136)              0         \n",
      "_________________________________________________________________\n",
      "dense (Dense)                (None, 128)               401536    \n",
      "_________________________________________________________________\n",
      "dropout_1 (Dropout)          (None, 128)               0         \n",
      "_________________________________________________________________\n",
      "dense_1 (Dense)              (None, 5)                 645       \n",
      "=================================================================\n",
      "Total params: 420,997\n",
      "Trainable params: 420,997\n",
      "Non-trainable params: 0\n",
      "_________________________________________________________________\n"
     ]
    }
   ],
   "source": [
    "from tensorflow.keras.models import Sequential\n",
    "from tensorflow.keras.layers import Dense, Dropout, Flatten\n",
    "from tensorflow.keras.layers import Conv2D, MaxPooling2D\n",
    "\n",
    "\n",
    "model = Sequential()\n",
    "model.add(Conv2D(32, kernel_size=(3, 3), padding='same', activation='relu', input_shape=(28, 28, 1)))\n",
    "model.add(MaxPooling2D(pool_size=(2, 2)))\n",
    "model.add(Conv2D(64, kernel_size=(3, 3), padding='same', activation='relu'))\n",
    "model.add(MaxPooling2D(pool_size=(2, 2)))\n",
    "model.add(Dropout(0.2))\n",
    "model.add(Flatten())\n",
    "model.add(Dense(128, activation='relu'))\n",
    "model.add(Dropout(0.5))\n",
    "model.add(Dense(len(class_names), activation='softmax'))\n",
    "model.summary()"
   ]
  },
  {
   "cell_type": "code",
   "execution_count": null,
   "metadata": {
    "id": "Libhg0bh7Y-0"
   },
   "outputs": [],
   "source": [
    "from tensorflow.keras.optimizers import Adam\n",
    "\n",
    "model.compile(loss='categorical_crossentropy',\n",
    "             optimizer=Adam(learning_rate=1e-4),\n",
    "             metrics=['accuracy']\n",
    "             )"
   ]
  },
  {
   "cell_type": "code",
   "execution_count": null,
   "metadata": {
    "colab": {
     "base_uri": "https://localhost:8080/"
    },
    "id": "03fBtbEb7-lt",
    "outputId": "531590db-53af-4175-c80e-8d9e0a1a02de"
   },
   "outputs": [
    {
     "name": "stdout",
     "output_type": "stream",
     "text": [
      "Epoch 1/10\n",
      "2188/2188 [==============================] - 46s 8ms/step - loss: 0.5036 - accuracy: 0.8242 - val_loss: 0.2837 - val_accuracy: 0.9069\n",
      "Epoch 2/10\n",
      "2188/2188 [==============================] - 19s 9ms/step - loss: 0.2962 - accuracy: 0.9050 - val_loss: 0.2330 - val_accuracy: 0.9246\n",
      "Epoch 3/10\n",
      "2188/2188 [==============================] - 20s 9ms/step - loss: 0.2561 - accuracy: 0.9190 - val_loss: 0.2082 - val_accuracy: 0.9324\n",
      "Epoch 4/10\n",
      "2188/2188 [==============================] - 18s 8ms/step - loss: 0.2312 - accuracy: 0.9257 - val_loss: 0.1970 - val_accuracy: 0.9358\n",
      "Epoch 5/10\n",
      "2188/2188 [==============================] - 20s 9ms/step - loss: 0.2126 - accuracy: 0.9328 - val_loss: 0.1816 - val_accuracy: 0.9409\n",
      "Epoch 6/10\n",
      "2188/2188 [==============================] - 18s 8ms/step - loss: 0.2010 - accuracy: 0.9360 - val_loss: 0.1761 - val_accuracy: 0.9422\n",
      "Epoch 7/10\n",
      "2188/2188 [==============================] - 20s 9ms/step - loss: 0.1901 - accuracy: 0.9398 - val_loss: 0.1649 - val_accuracy: 0.9458\n",
      "Epoch 8/10\n",
      "2188/2188 [==============================] - 20s 9ms/step - loss: 0.1816 - accuracy: 0.9421 - val_loss: 0.1613 - val_accuracy: 0.9472\n",
      "Epoch 9/10\n",
      "2188/2188 [==============================] - 17s 8ms/step - loss: 0.1712 - accuracy: 0.9446 - val_loss: 0.1629 - val_accuracy: 0.9465\n",
      "Epoch 10/10\n",
      "2188/2188 [==============================] - 18s 8ms/step - loss: 0.1640 - accuracy: 0.9483 - val_loss: 0.1517 - val_accuracy: 0.9500\n"
     ]
    }
   ],
   "source": [
    "hist = model.fit(\n",
    "    x_train, y_train,\n",
    "    epochs=10,\n",
    "    verbose=1,\n",
    "    validation_data=(x_test, y_test),\n",
    "    )"
   ]
  },
  {
   "cell_type": "code",
   "execution_count": null,
   "metadata": {
    "id": "NofaLbfY9Ocy"
   },
   "outputs": [],
   "source": [
    "import matplotlib.pyplot as plt\n",
    "\n",
    "def gen_graph(history, title):\n",
    "    \n",
    "  plt.plot(history.history['accuracy'])\n",
    "  plt.plot(history.history['val_accuracy'])\n",
    "  plt.title('model accuracy')\n",
    "  plt.ylabel('accuracy')\n",
    "  plt.xlabel('epoch')\n",
    "  plt.legend(['train', 'val'], loc='upper left')\n",
    "  plt.show()\n",
    "\n",
    "  plt.plot(history.history['loss'])\n",
    "  plt.plot(history.history['val_loss'])\n",
    "  plt.title('model loss')\n",
    "  plt.ylabel('loss')\n",
    "  plt.xlabel('epoch')\n",
    "  plt.legend(['train', 'val'], loc='upper left')\n",
    "  plt.show()\n",
    "  plt.show()"
   ]
  },
  {
   "cell_type": "code",
   "execution_count": null,
   "metadata": {
    "colab": {
     "base_uri": "https://localhost:8080/",
     "height": 573
    },
    "id": "CiRO36Ia9P0C",
    "outputId": "8b30012f-2ec0-4f7d-d49b-851995401bf0"
   },
   "outputs": [
    {
     "data": {
      "image/png": "[encoded data removed]",
      "text/plain": [
       "<Figure size 432x288 with 1 Axes>"
      ]
     },
     "metadata": {
      "needs_background": "light"
     },
     "output_type": "display_data"
    },
    {
     "data": {
      "image/png": "[encoded data removed]",
      "text/plain": [
       "<Figure size 432x288 with 1 Axes>"
      ]
     },
     "metadata": {
      "needs_background": "light"
     },
     "output_type": "display_data"
    }
   ],
   "source": [
    "gen_graph(hist, 'Doodle CNN')"
   ]
  },
  {
   "cell_type": "code",
   "execution_count": null,
   "metadata": {
    "id": "j0u9ebYFckX2"
   },
   "outputs": [],
   "source": [
    "model.save('model.h5')"
   ]
  },
  {
   "cell_type": "code",
   "execution_count": null,
   "metadata": {
    "colab": {
     "base_uri": "https://localhost:8080/"
    },
    "id": "nqsi7xUuAVPq",
    "outputId": "18bdd542-88e6-4502-87a7-71cdee3cc276"
   },
   "outputs": [
    {
     "name": "stdout",
     "output_type": "stream",
     "text": [
      "[[[[0.]\n",
      "   [0.]\n",
      "   [0.]\n",
      "   [0.]\n",
      "   [0.]\n",
      "   [0.]\n",
      "   [0.]\n",
      "   [0.]\n",
      "   [0.]\n",
      "   [0.]\n",
      "   [0.]\n",
      "   [0.]\n",
      "   [0.]\n",
      "   [0.]\n",
      "   [0.]\n",
      "   [0.]\n",
      "   [0.]\n",
      "   [0.]\n",
      "   [0.]\n",
      "   [0.]\n",
      "   [0.]\n",
      "   [0.]\n",
      "   [0.]\n",
      "   [0.]\n",
      "   [0.]\n",
      "   [0.]\n",
      "   [0.]\n",
      "   [0.]]\n",
      "\n",
      "  [[0.]\n",
      "   [0.]\n",
      "   [0.]\n",
      "   [0.]\n",
      "   [0.]\n",
      "   [0.]\n",
      "   [0.]\n",
      "   [0.]\n",
      "   [0.]\n",
      "   [0.]\n",
      "   [0.]\n",
      "   [1.]\n",
      "   [0.]\n",
      "   [0.]\n",
      "   [0.]\n",
      "   [0.]\n",
      "   [0.]\n",
      "   [0.]\n",
      "   [0.]\n",
      "   [0.]\n",
      "   [0.]\n",
      "   [0.]\n",
      "   [0.]\n",
      "   [0.]\n",
      "   [0.]\n",
      "   [0.]\n",
      "   [0.]\n",
      "   [0.]]\n",
      "\n",
      "  [[0.]\n",
      "   [0.]\n",
      "   [0.]\n",
      "   [0.]\n",
      "   [0.]\n",
      "   [0.]\n",
      "   [0.]\n",
      "   [0.]\n",
      "   [1.]\n",
      "   [1.]\n",
      "   [1.]\n",
      "   [1.]\n",
      "   [1.]\n",
      "   [1.]\n",
      "   [1.]\n",
      "   [1.]\n",
      "   [0.]\n",
      "   [0.]\n",
      "   [0.]\n",
      "   [0.]\n",
      "   [0.]\n",
      "   [0.]\n",
      "   [0.]\n",
      "   [0.]\n",
      "   [0.]\n",
      "   [0.]\n",
      "   [0.]\n",
      "   [0.]]\n",
      "\n",
      "  [[0.]\n",
      "   [0.]\n",
      "   [0.]\n",
      "   [0.]\n",
      "   [0.]\n",
      "   [0.]\n",
      "   [1.]\n",
      "   [1.]\n",
      "   [1.]\n",
      "   [1.]\n",
      "   [1.]\n",
      "   [1.]\n",
      "   [1.]\n",
      "   [1.]\n",
      "   [1.]\n",
      "   [1.]\n",
      "   [1.]\n",
      "   [0.]\n",
      "   [0.]\n",
      "   [0.]\n",
      "   [0.]\n",
      "   [0.]\n",
      "   [0.]\n",
      "   [0.]\n",
      "   [0.]\n",
      "   [0.]\n",
      "   [0.]\n",
      "   [0.]]\n",
      "\n",
      "  [[0.]\n",
      "   [0.]\n",
      "   [0.]\n",
      "   [0.]\n",
      "   [1.]\n",
      "   [1.]\n",
      "   [1.]\n",
      "   [1.]\n",
      "   [1.]\n",
      "   [0.]\n",
      "   [0.]\n",
      "   [1.]\n",
      "   [1.]\n",
      "   [1.]\n",
      "   [1.]\n",
      "   [0.]\n",
      "   [1.]\n",
      "   [1.]\n",
      "   [1.]\n",
      "   [0.]\n",
      "   [0.]\n",
      "   [0.]\n",
      "   [0.]\n",
      "   [0.]\n",
      "   [0.]\n",
      "   [0.]\n",
      "   [0.]\n",
      "   [0.]]\n",
      "\n",
      "  [[0.]\n",
      "   [0.]\n",
      "   [0.]\n",
      "   [1.]\n",
      "   [1.]\n",
      "   [1.]\n",
      "   [1.]\n",
      "   [1.]\n",
      "   [0.]\n",
      "   [0.]\n",
      "   [0.]\n",
      "   [0.]\n",
      "   [0.]\n",
      "   [0.]\n",
      "   [1.]\n",
      "   [1.]\n",
      "   [0.]\n",
      "   [0.]\n",
      "   [1.]\n",
      "   [0.]\n",
      "   [0.]\n",
      "   [0.]\n",
      "   [0.]\n",
      "   [0.]\n",
      "   [0.]\n",
      "   [0.]\n",
      "   [0.]\n",
      "   [0.]]\n",
      "\n",
      "  [[0.]\n",
      "   [0.]\n",
      "   [1.]\n",
      "   [1.]\n",
      "   [1.]\n",
      "   [0.]\n",
      "   [0.]\n",
      "   [0.]\n",
      "   [0.]\n",
      "   [0.]\n",
      "   [0.]\n",
      "   [0.]\n",
      "   [0.]\n",
      "   [0.]\n",
      "   [0.]\n",
      "   [1.]\n",
      "   [1.]\n",
      "   [1.]\n",
      "   [0.]\n",
      "   [0.]\n",
      "   [0.]\n",
      "   [0.]\n",
      "   [0.]\n",
      "   [0.]\n",
      "   [0.]\n",
      "   [0.]\n",
      "   [0.]\n",
      "   [0.]]\n",
      "\n",
      "  [[0.]\n",
      "   [0.]\n",
      "   [1.]\n",
      "   [1.]\n",
      "   [0.]\n",
      "   [0.]\n",
      "   [0.]\n",
      "   [0.]\n",
      "   [0.]\n",
      "   [0.]\n",
      "   [0.]\n",
      "   [1.]\n",
      "   [1.]\n",
      "   [0.]\n",
      "   [0.]\n",
      "   [1.]\n",
      "   [1.]\n",
      "   [0.]\n",
      "   [0.]\n",
      "   [0.]\n",
      "   [0.]\n",
      "   [0.]\n",
      "   [0.]\n",
      "   [0.]\n",
      "   [0.]\n",
      "   [0.]\n",
      "   [0.]\n",
      "   [0.]]\n",
      "\n",
      "  [[0.]\n",
      "   [1.]\n",
      "   [1.]\n",
      "   [1.]\n",
      "   [0.]\n",
      "   [0.]\n",
      "   [1.]\n",
      "   [0.]\n",
      "   [0.]\n",
      "   [0.]\n",
      "   [0.]\n",
      "   [0.]\n",
      "   [1.]\n",
      "   [0.]\n",
      "   [0.]\n",
      "   [0.]\n",
      "   [1.]\n",
      "   [1.]\n",
      "   [0.]\n",
      "   [0.]\n",
      "   [0.]\n",
      "   [0.]\n",
      "   [0.]\n",
      "   [0.]\n",
      "   [0.]\n",
      "   [0.]\n",
      "   [0.]\n",
      "   [0.]]\n",
      "\n",
      "  [[0.]\n",
      "   [1.]\n",
      "   [1.]\n",
      "   [1.]\n",
      "   [0.]\n",
      "   [1.]\n",
      "   [1.]\n",
      "   [1.]\n",
      "   [0.]\n",
      "   [0.]\n",
      "   [0.]\n",
      "   [0.]\n",
      "   [0.]\n",
      "   [0.]\n",
      "   [0.]\n",
      "   [0.]\n",
      "   [0.]\n",
      "   [1.]\n",
      "   [1.]\n",
      "   [0.]\n",
      "   [0.]\n",
      "   [0.]\n",
      "   [0.]\n",
      "   [0.]\n",
      "   [0.]\n",
      "   [0.]\n",
      "   [0.]\n",
      "   [0.]]\n",
      "\n",
      "  [[0.]\n",
      "   [1.]\n",
      "   [1.]\n",
      "   [1.]\n",
      "   [0.]\n",
      "   [0.]\n",
      "   [1.]\n",
      "   [0.]\n",
      "   [0.]\n",
      "   [0.]\n",
      "   [0.]\n",
      "   [0.]\n",
      "   [0.]\n",
      "   [0.]\n",
      "   [0.]\n",
      "   [0.]\n",
      "   [0.]\n",
      "   [0.]\n",
      "   [1.]\n",
      "   [1.]\n",
      "   [0.]\n",
      "   [0.]\n",
      "   [0.]\n",
      "   [0.]\n",
      "   [0.]\n",
      "   [0.]\n",
      "   [0.]\n",
      "   [0.]]\n",
      "\n",
      "  [[0.]\n",
      "   [0.]\n",
      "   [1.]\n",
      "   [1.]\n",
      "   [0.]\n",
      "   [0.]\n",
      "   [0.]\n",
      "   [0.]\n",
      "   [0.]\n",
      "   [1.]\n",
      "   [0.]\n",
      "   [0.]\n",
      "   [0.]\n",
      "   [0.]\n",
      "   [0.]\n",
      "   [0.]\n",
      "   [0.]\n",
      "   [0.]\n",
      "   [0.]\n",
      "   [1.]\n",
      "   [0.]\n",
      "   [0.]\n",
      "   [0.]\n",
      "   [0.]\n",
      "   [0.]\n",
      "   [0.]\n",
      "   [0.]\n",
      "   [0.]]\n",
      "\n",
      "  [[0.]\n",
      "   [0.]\n",
      "   [1.]\n",
      "   [1.]\n",
      "   [1.]\n",
      "   [0.]\n",
      "   [0.]\n",
      "   [0.]\n",
      "   [0.]\n",
      "   [1.]\n",
      "   [1.]\n",
      "   [0.]\n",
      "   [0.]\n",
      "   [0.]\n",
      "   [0.]\n",
      "   [0.]\n",
      "   [0.]\n",
      "   [0.]\n",
      "   [0.]\n",
      "   [0.]\n",
      "   [1.]\n",
      "   [0.]\n",
      "   [0.]\n",
      "   [0.]\n",
      "   [0.]\n",
      "   [0.]\n",
      "   [0.]\n",
      "   [0.]]\n",
      "\n",
      "  [[0.]\n",
      "   [0.]\n",
      "   [0.]\n",
      "   [1.]\n",
      "   [1.]\n",
      "   [0.]\n",
      "   [0.]\n",
      "   [0.]\n",
      "   [0.]\n",
      "   [0.]\n",
      "   [1.]\n",
      "   [0.]\n",
      "   [0.]\n",
      "   [0.]\n",
      "   [0.]\n",
      "   [0.]\n",
      "   [0.]\n",
      "   [0.]\n",
      "   [0.]\n",
      "   [0.]\n",
      "   [1.]\n",
      "   [0.]\n",
      "   [0.]\n",
      "   [0.]\n",
      "   [0.]\n",
      "   [0.]\n",
      "   [0.]\n",
      "   [0.]]\n",
      "\n",
      "  [[0.]\n",
      "   [0.]\n",
      "   [0.]\n",
      "   [1.]\n",
      "   [1.]\n",
      "   [0.]\n",
      "   [0.]\n",
      "   [0.]\n",
      "   [0.]\n",
      "   [0.]\n",
      "   [1.]\n",
      "   [0.]\n",
      "   [0.]\n",
      "   [0.]\n",
      "   [0.]\n",
      "   [0.]\n",
      "   [0.]\n",
      "   [1.]\n",
      "   [0.]\n",
      "   [0.]\n",
      "   [1.]\n",
      "   [0.]\n",
      "   [0.]\n",
      "   [0.]\n",
      "   [0.]\n",
      "   [0.]\n",
      "   [0.]\n",
      "   [0.]]\n",
      "\n",
      "  [[0.]\n",
      "   [0.]\n",
      "   [0.]\n",
      "   [1.]\n",
      "   [1.]\n",
      "   [0.]\n",
      "   [0.]\n",
      "   [0.]\n",
      "   [0.]\n",
      "   [0.]\n",
      "   [1.]\n",
      "   [0.]\n",
      "   [1.]\n",
      "   [0.]\n",
      "   [0.]\n",
      "   [0.]\n",
      "   [1.]\n",
      "   [1.]\n",
      "   [0.]\n",
      "   [1.]\n",
      "   [1.]\n",
      "   [0.]\n",
      "   [0.]\n",
      "   [0.]\n",
      "   [0.]\n",
      "   [0.]\n",
      "   [0.]\n",
      "   [0.]]\n",
      "\n",
      "  [[0.]\n",
      "   [0.]\n",
      "   [0.]\n",
      "   [1.]\n",
      "   [1.]\n",
      "   [0.]\n",
      "   [0.]\n",
      "   [0.]\n",
      "   [0.]\n",
      "   [0.]\n",
      "   [1.]\n",
      "   [1.]\n",
      "   [0.]\n",
      "   [0.]\n",
      "   [0.]\n",
      "   [1.]\n",
      "   [1.]\n",
      "   [0.]\n",
      "   [0.]\n",
      "   [1.]\n",
      "   [0.]\n",
      "   [0.]\n",
      "   [0.]\n",
      "   [0.]\n",
      "   [0.]\n",
      "   [0.]\n",
      "   [0.]\n",
      "   [0.]]\n",
      "\n",
      "  [[0.]\n",
      "   [0.]\n",
      "   [0.]\n",
      "   [0.]\n",
      "   [0.]\n",
      "   [1.]\n",
      "   [0.]\n",
      "   [0.]\n",
      "   [0.]\n",
      "   [0.]\n",
      "   [0.]\n",
      "   [0.]\n",
      "   [0.]\n",
      "   [0.]\n",
      "   [1.]\n",
      "   [1.]\n",
      "   [0.]\n",
      "   [0.]\n",
      "   [0.]\n",
      "   [1.]\n",
      "   [0.]\n",
      "   [0.]\n",
      "   [0.]\n",
      "   [0.]\n",
      "   [0.]\n",
      "   [0.]\n",
      "   [0.]\n",
      "   [0.]]\n",
      "\n",
      "  [[0.]\n",
      "   [0.]\n",
      "   [0.]\n",
      "   [0.]\n",
      "   [0.]\n",
      "   [1.]\n",
      "   [0.]\n",
      "   [0.]\n",
      "   [0.]\n",
      "   [0.]\n",
      "   [0.]\n",
      "   [0.]\n",
      "   [1.]\n",
      "   [1.]\n",
      "   [1.]\n",
      "   [0.]\n",
      "   [0.]\n",
      "   [0.]\n",
      "   [0.]\n",
      "   [1.]\n",
      "   [0.]\n",
      "   [0.]\n",
      "   [0.]\n",
      "   [0.]\n",
      "   [0.]\n",
      "   [0.]\n",
      "   [0.]\n",
      "   [0.]]\n",
      "\n",
      "  [[0.]\n",
      "   [0.]\n",
      "   [0.]\n",
      "   [0.]\n",
      "   [0.]\n",
      "   [1.]\n",
      "   [0.]\n",
      "   [0.]\n",
      "   [0.]\n",
      "   [0.]\n",
      "   [0.]\n",
      "   [1.]\n",
      "   [1.]\n",
      "   [0.]\n",
      "   [0.]\n",
      "   [0.]\n",
      "   [0.]\n",
      "   [0.]\n",
      "   [1.]\n",
      "   [0.]\n",
      "   [0.]\n",
      "   [0.]\n",
      "   [0.]\n",
      "   [0.]\n",
      "   [0.]\n",
      "   [0.]\n",
      "   [0.]\n",
      "   [0.]]\n",
      "\n",
      "  [[0.]\n",
      "   [0.]\n",
      "   [0.]\n",
      "   [0.]\n",
      "   [0.]\n",
      "   [1.]\n",
      "   [0.]\n",
      "   [0.]\n",
      "   [0.]\n",
      "   [0.]\n",
      "   [0.]\n",
      "   [0.]\n",
      "   [0.]\n",
      "   [0.]\n",
      "   [0.]\n",
      "   [0.]\n",
      "   [0.]\n",
      "   [1.]\n",
      "   [1.]\n",
      "   [0.]\n",
      "   [0.]\n",
      "   [0.]\n",
      "   [0.]\n",
      "   [0.]\n",
      "   [0.]\n",
      "   [0.]\n",
      "   [0.]\n",
      "   [0.]]\n",
      "\n",
      "  [[0.]\n",
      "   [0.]\n",
      "   [0.]\n",
      "   [0.]\n",
      "   [0.]\n",
      "   [0.]\n",
      "   [1.]\n",
      "   [0.]\n",
      "   [0.]\n",
      "   [0.]\n",
      "   [0.]\n",
      "   [0.]\n",
      "   [0.]\n",
      "   [0.]\n",
      "   [0.]\n",
      "   [0.]\n",
      "   [0.]\n",
      "   [1.]\n",
      "   [0.]\n",
      "   [0.]\n",
      "   [0.]\n",
      "   [0.]\n",
      "   [0.]\n",
      "   [0.]\n",
      "   [0.]\n",
      "   [0.]\n",
      "   [0.]\n",
      "   [0.]]\n",
      "\n",
      "  [[0.]\n",
      "   [0.]\n",
      "   [0.]\n",
      "   [0.]\n",
      "   [0.]\n",
      "   [0.]\n",
      "   [1.]\n",
      "   [1.]\n",
      "   [0.]\n",
      "   [0.]\n",
      "   [0.]\n",
      "   [0.]\n",
      "   [0.]\n",
      "   [0.]\n",
      "   [0.]\n",
      "   [1.]\n",
      "   [1.]\n",
      "   [0.]\n",
      "   [0.]\n",
      "   [0.]\n",
      "   [0.]\n",
      "   [0.]\n",
      "   [0.]\n",
      "   [0.]\n",
      "   [0.]\n",
      "   [0.]\n",
      "   [0.]\n",
      "   [0.]]\n",
      "\n",
      "  [[0.]\n",
      "   [0.]\n",
      "   [0.]\n",
      "   [0.]\n",
      "   [0.]\n",
      "   [0.]\n",
      "   [0.]\n",
      "   [1.]\n",
      "   [1.]\n",
      "   [1.]\n",
      "   [1.]\n",
      "   [1.]\n",
      "   [1.]\n",
      "   [1.]\n",
      "   [1.]\n",
      "   [0.]\n",
      "   [0.]\n",
      "   [0.]\n",
      "   [0.]\n",
      "   [0.]\n",
      "   [0.]\n",
      "   [0.]\n",
      "   [0.]\n",
      "   [0.]\n",
      "   [0.]\n",
      "   [0.]\n",
      "   [0.]\n",
      "   [0.]]\n",
      "\n",
      "  [[0.]\n",
      "   [0.]\n",
      "   [0.]\n",
      "   [0.]\n",
      "   [0.]\n",
      "   [0.]\n",
      "   [0.]\n",
      "   [0.]\n",
      "   [0.]\n",
      "   [0.]\n",
      "   [0.]\n",
      "   [0.]\n",
      "   [0.]\n",
      "   [0.]\n",
      "   [0.]\n",
      "   [0.]\n",
      "   [0.]\n",
      "   [0.]\n",
      "   [0.]\n",
      "   [0.]\n",
      "   [0.]\n",
      "   [0.]\n",
      "   [0.]\n",
      "   [0.]\n",
      "   [0.]\n",
      "   [0.]\n",
      "   [0.]\n",
      "   [0.]]\n",
      "\n",
      "  [[0.]\n",
      "   [0.]\n",
      "   [0.]\n",
      "   [0.]\n",
      "   [0.]\n",
      "   [0.]\n",
      "   [0.]\n",
      "   [0.]\n",
      "   [0.]\n",
      "   [0.]\n",
      "   [0.]\n",
      "   [0.]\n",
      "   [0.]\n",
      "   [0.]\n",
      "   [0.]\n",
      "   [0.]\n",
      "   [0.]\n",
      "   [0.]\n",
      "   [0.]\n",
      "   [0.]\n",
      "   [0.]\n",
      "   [0.]\n",
      "   [0.]\n",
      "   [0.]\n",
      "   [0.]\n",
      "   [0.]\n",
      "   [0.]\n",
      "   [0.]]\n",
      "\n",
      "  [[0.]\n",
      "   [0.]\n",
      "   [0.]\n",
      "   [0.]\n",
      "   [0.]\n",
      "   [0.]\n",
      "   [0.]\n",
      "   [0.]\n",
      "   [0.]\n",
      "   [0.]\n",
      "   [0.]\n",
      "   [0.]\n",
      "   [0.]\n",
      "   [0.]\n",
      "   [0.]\n",
      "   [0.]\n",
      "   [0.]\n",
      "   [0.]\n",
      "   [0.]\n",
      "   [0.]\n",
      "   [0.]\n",
      "   [0.]\n",
      "   [0.]\n",
      "   [0.]\n",
      "   [0.]\n",
      "   [0.]\n",
      "   [0.]\n",
      "   [0.]]\n",
      "\n",
      "  [[0.]\n",
      "   [0.]\n",
      "   [0.]\n",
      "   [0.]\n",
      "   [0.]\n",
      "   [0.]\n",
      "   [0.]\n",
      "   [0.]\n",
      "   [0.]\n",
      "   [0.]\n",
      "   [0.]\n",
      "   [0.]\n",
      "   [0.]\n",
      "   [0.]\n",
      "   [0.]\n",
      "   [0.]\n",
      "   [0.]\n",
      "   [0.]\n",
      "   [0.]\n",
      "   [0.]\n",
      "   [0.]\n",
      "   [0.]\n",
      "   [0.]\n",
      "   [0.]\n",
      "   [0.]\n",
      "   [0.]\n",
      "   [0.]\n",
      "   [0.]]]]\n"
     ]
    }
   ],
   "source": [
    "import cv2\n",
    "\n",
    "def get_processed_input_img(image_path, size=28):\n",
    "  test_img =  cv2.imread(image_path, cv2.IMREAD_GRAYSCALE)\n",
    "  kernel = np.ones((3, 3), np.uint8)\n",
    "  test_img = cv2.erode(test_img, kernel, iterations=1)\n",
    "#   print(test_img.shape)\n",
    "  test_img = cv2.resize(test_img, dsize=(size, size), interpolation=cv2.INTER_AREA)\n",
    "  thresh = 200\n",
    "  test_img = cv2.threshold(test_img, thresh, 255, cv2.THRESH_BINARY_INV)[1]\n",
    "#   cv2.imwrite('1s.png', test_img)\n",
    "  # plt.imshow(test_img)\n",
    "  test_img = test_img.reshape((1, size, size, 1)).astype(np.float32)\n",
    "  \n",
    "  return test_img/255\n",
    "\n",
    "img = get_processed_input_img('/content/f.png')\n",
    "\n",
    "\n",
    "# print(x_test[9], '\\n\\n\\n\\n')\n",
    "print(img)\n"
   ]
  },
  {
   "cell_type": "code",
   "execution_count": null,
   "metadata": {
    "colab": {
     "base_uri": "https://localhost:8080/"
    },
    "id": "-MRmKXJPCmTH",
    "outputId": "e5c9d26c-e92d-425a-a42b-67019b719d71"
   },
   "outputs": [
    {
     "data": {
      "text/plain": [
       "{0: 'sun', 1: 'apple', 2: 'face', 3: 'bird', 4: 'ant'}"
      ]
     },
     "execution_count": 23,
     "metadata": {},
     "output_type": "execute_result"
    }
   ],
   "source": [
    "lbls"
   ]
  },
  {
   "cell_type": "code",
   "execution_count": null,
   "metadata": {
    "colab": {
     "base_uri": "https://localhost:8080/"
    },
    "id": "Sge96KOoAxTL",
    "outputId": "5b38ec71-525f-443e-c732-e18a97ebe706"
   },
   "outputs": [
    {
     "data": {
      "text/plain": [
       "array([[2.6633335e-05, 2.5511348e-05, 9.9714798e-01, 2.7915412e-03,\n",
       "        8.2757133e-06]], dtype=float32)"
      ]
     },
     "execution_count": 24,
     "metadata": {},
     "output_type": "execute_result"
    }
   ],
   "source": [
    "pred = model.predict(img)\n",
    "pred"
   ]
  },
  {
   "cell_type": "code",
   "execution_count": null,
   "metadata": {
    "colab": {
     "base_uri": "https://localhost:8080/"
    },
    "id": "Tn_2BQbuBgQJ",
    "outputId": "f0a5b15f-9cc0-4db5-e6a0-1b6e25920dc3"
   },
   "outputs": [
    {
     "data": {
      "text/plain": [
       "array([2, 3, 0, 1, 4])"
      ]
     },
     "execution_count": 25,
     "metadata": {},
     "output_type": "execute_result"
    }
   ],
   "source": [
    "best_5 = (-pred).argsort()[0]\n",
    "best_5"
   ]
  },
  {
   "cell_type": "code",
   "execution_count": null,
   "metadata": {
    "colab": {
     "base_uri": "https://localhost:8080/"
    },
    "id": "VftbBsSmB_Tk",
    "outputId": "8a145ff4-8b5e-4127-f24f-d76822e36521"
   },
   "outputs": [
    {
     "name": "stdout",
     "output_type": "stream",
     "text": [
      "['face', 'bird', 'sun', 'apple', 'ant']\n"
     ]
    }
   ],
   "source": [
    "print([lbls[i] for i in best_5])"
   ]
  },
  {
   "cell_type": "code",
   "execution_count": null,
   "metadata": {
    "colab": {
     "base_uri": "https://localhost:8080/",
     "height": 1000
    },
    "id": "bXM_boP2GF0-",
    "outputId": "74cd4e95-5bc8-4f01-ac26-292af17830a1"
   },
   "outputs": [
    {
     "data": {
      "image/png": "[encoded data removed]",
      "text/plain": [
       "<Figure size 432x288 with 1 Axes>"
      ]
     },
     "metadata": {
      "needs_background": "light"
     },
     "output_type": "display_data"
    },
    {
     "name": "stdout",
     "output_type": "stream",
     "text": [
      "[0.09978314 0.36038414 0.35983133 0.14862826 0.03137317]\n",
      "[1 2 3 0 4]\n",
      "['apple', 'face', 'bird', 'sun', 'ant']\n"
     ]
    },
    {
     "data": {
      "image/png": "[encoded data removed]",
      "text/plain": [
       "<Figure size 432x288 with 1 Axes>"
      ]
     },
     "metadata": {
      "needs_background": "light"
     },
     "output_type": "display_data"
    },
    {
     "name": "stdout",
     "output_type": "stream",
     "text": [
      "[2.6633335e-05 2.5511348e-05 9.9714798e-01 2.7915412e-03 8.2757133e-06]\n",
      "[2 3 0 1 4]\n",
      "['face', 'bird', 'sun', 'apple', 'ant']\n"
     ]
    },
    {
     "data": {
      "image/png": "[encoded data removed]",
      "text/plain": [
       "<Figure size 432x288 with 1 Axes>"
      ]
     },
     "metadata": {
      "needs_background": "light"
     },
     "output_type": "display_data"
    },
    {
     "name": "stdout",
     "output_type": "stream",
     "text": [
      "[0.0677975  0.00979589 0.07284924 0.18902802 0.6605294 ]\n",
      "[4 3 2 0 1]\n",
      "['ant', 'bird', 'face', 'sun', 'apple']\n"
     ]
    },
    {
     "data": {
      "image/png": "[encoded data removed]",
      "text/plain": [
       "<Figure size 432x288 with 1 Axes>"
      ]
     },
     "metadata": {
      "needs_background": "light"
     },
     "output_type": "display_data"
    },
    {
     "name": "stdout",
     "output_type": "stream",
     "text": [
      "[9.8430401e-01 7.8218363e-07 3.0488170e-06 1.5257219e-02 4.3490474e-04]\n",
      "[0 3 4 2 1]\n",
      "['sun', 'bird', 'ant', 'face', 'apple']\n"
     ]
    },
    {
     "data": {
      "image/png": "[encoded data removed]",
      "text/plain": [
       "<Figure size 432x288 with 1 Axes>"
      ]
     },
     "metadata": {
      "needs_background": "light"
     },
     "output_type": "display_data"
    },
    {
     "name": "stdout",
     "output_type": "stream",
     "text": [
      "[7.9868966e-01 5.6194217e-04 2.0808063e-02 1.4009382e-01 3.9846558e-02]\n",
      "[0 3 4 2 1]\n",
      "['sun', 'bird', 'ant', 'face', 'apple']\n"
     ]
    }
   ],
   "source": [
    "imgs = ['apple', 'f', 'ant', 'sun', 'bird']\n",
    "\n",
    "\n",
    "for i in imgs:\n",
    "  img = get_processed_input_img('/content/{}.png'.format(i))\n",
    "\n",
    "  plt.imshow((img * 255).reshape(28, 28))\n",
    "  plt.show()\n",
    "\n",
    "  pred = model.predict(img)[0]\n",
    "  print(pred)\n",
    "  best_5 = (-pred).argsort()\n",
    "  print(best_5)\n",
    "  print([lbls[i] for i in best_5])"
   ]
  }
 ],
 "metadata": {
  "accelerator": "GPU",
  "colab": {
   "collapsed_sections": [],
   "name": "doodle_cnn.ipynb",
   "provenance": []
  },
  "kernelspec": {
   "display_name": "Python 3",
   "language": "python",
   "name": "python3"
  },
  "language_info": {
   "codemirror_mode": {
    "name": "ipython",
    "version": 3
   },
   "file_extension": ".py",
   "mimetype": "text/x-python",
   "name": "python",
   "nbconvert_exporter": "python",
   "pygments_lexer": "ipython3",
   "version": "3.8.5"
  }
 },
 "nbformat": 4,
 "nbformat_minor": 1
}
